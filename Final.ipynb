{
 "cells": [
  {
   "cell_type": "code",
   "execution_count": 1,
   "metadata": {},
   "outputs": [],
   "source": [
    "import numpy as np\n",
    "from numpy import random\n",
    "from numpy.random import choice\n",
    "\n",
    "import pandas as pd\n",
    "\n",
    "import scipy.stats as ss\n",
    "\n",
    "import matplotlib as mpl\n",
    "import matplotlib.pyplot as plt\n",
    "%matplotlib inline\n",
    "\n",
    "from Visualize import Visualize\n",
    "from Simulation import Simulation, show_deltas_distribution, init_sim_draw_deltas\n",
    "from Metric import Metric\n",
    "\n",
    "from tqdm.auto import tqdm\n",
    "\n",
    "import torch\n",
    "from torch import nn\n",
    "from torch.nn import functional as F\n",
    "\n",
    "from utils import powerset, powerset_bounded, choose_indices, choose_indices_bounded\n",
    "from utils import print_func_names, print_indices\n",
    "from params_modification import p_norm, modify_params, L1, L2, L4, geom_mean, arifm_mean\n",
    "from metrics_signals import signals, metrics"
   ]
  },
  {
   "cell_type": "code",
   "execution_count": 2,
   "metadata": {},
   "outputs": [],
   "source": [
    "random.seed(40)\n",
    "SIZE = 1000\n",
    "N_USERS = 1000\n",
    "N_ITERATIONS = 1000\n",
    "eps = 1e-8"
   ]
  },
  {
   "cell_type": "code",
   "execution_count": null,
   "metadata": {},
   "outputs": [],
   "source": []
  },
  {
   "cell_type": "code",
   "execution_count": null,
   "metadata": {},
   "outputs": [],
   "source": []
  },
  {
   "cell_type": "code",
   "execution_count": 3,
   "metadata": {},
   "outputs": [],
   "source": [
    "# metrics\n",
    "\n",
    "def ctr(data):\n",
    "    return data.iloc[:, 0:2].min(axis=1) / (data.iloc[:, 0:2].max(axis=1) + eps)\n",
    "\n",
    "def clip_ctr(data):\n",
    "    return np.clip(data.iloc[:, 0:2].min(axis=1) / (data.iloc[:, 0:2].max(axis=1) + eps), 0, 1)\n",
    "\n",
    "def queries_per_user(data):\n",
    "    return data.iloc[:, 2]\n",
    "\n",
    "def sessions_per_user(data):\n",
    "    return data.iloc[:, 3]\n",
    "\n",
    "def queries_per_session(data):\n",
    "    return np.clip(data.iloc[:, 2] / (data.iloc[:, 3] + eps), 0, 1)\n",
    "\n",
    "def ads_click_rate(data):\n",
    "    return np.clip(data.iloc[:, 4] / (queries_per_user(data) + eps), 0, 1)\n",
    "\n",
    "def page_load_time_per_user(data):\n",
    "    return data.iloc[:, 5]\n",
    "\n",
    "def log_record_size_per_user(data):\n",
    "    return data.iloc[:, 6]\n",
    "\n",
    "def time_to_click_per_user(data):\n",
    "    return data.iloc[:, 7]\n",
    "\n",
    "def time_spent_per_user(data):\n",
    "    return data.iloc[:, 8]\n"
   ]
  },
  {
   "cell_type": "code",
   "execution_count": 4,
   "metadata": {},
   "outputs": [],
   "source": [
    "# signals\n",
    "\n",
    "def expon(param, n_users=N_USERS):\n",
    "    return ss.expon.rvs(loc=param, size=n_users)\n",
    "\n",
    "def expon2(param, n_users=N_USERS):\n",
    "    return ss.expon.rvs(loc=param, size=n_users)\n",
    "\n",
    "def n_queries(param, n_users=N_USERS):\n",
    "    return ss.poisson.rvs(mu=param, size=n_users)\n",
    "\n",
    "def n_sessions(param, n_users=N_USERS):\n",
    "    return ss.poisson.rvs(mu=param, size=n_users)\n",
    "\n",
    "def n_sessions_with_ads_clicks(param, n_users=N_USERS):\n",
    "    return ss.poisson.rvs(mu=param, size=n_users)\n",
    "\n",
    "def page_load_time(param, n_users=N_USERS):\n",
    "    return ss.lognorm.rvs(s=0.3, loc=param, size=n_users)\n",
    "\n",
    "def log_record_size(param, n_users=N_USERS):\n",
    "    return ss.poisson.rvs(mu=param, size=n_users)\n",
    "\n",
    "def time_to_click(param, n_users=N_USERS):\n",
    "    return ss.lognorm.rvs(s=0.8, loc=param, size=n_users)\n",
    "\n",
    "def time_spent(param, n_users=N_USERS):\n",
    "    return ss.lognorm.rvs(s=0.9, loc=param, size=n_users)\n"
   ]
  },
  {
   "cell_type": "code",
   "execution_count": null,
   "metadata": {},
   "outputs": [],
   "source": []
  },
  {
   "cell_type": "markdown",
   "metadata": {},
   "source": [
    "## Генерация симуляции"
   ]
  },
  {
   "cell_type": "code",
   "execution_count": 5,
   "metadata": {},
   "outputs": [],
   "source": [
    "signals = [expon, expon2, n_queries, n_sessions,\n",
    "           n_sessions_with_ads_clicks, page_load_time,\n",
    "           log_record_size, time_to_click, time_spent]\n",
    "\n",
    "metrics = [ctr, clip_ctr, queries_per_user, sessions_per_user,\n",
    "           queries_per_session, ads_click_rate, page_load_time_per_user,\n",
    "           log_record_size_per_user, time_to_click_per_user,\n",
    "           time_spent_per_user]\n",
    "\n",
    "functions = [L1, L2, L4, geom_mean, arifm_mean]"
   ]
  },
  {
   "cell_type": "code",
   "execution_count": 6,
   "metadata": {},
   "outputs": [
    {
     "name": "stdout",
     "output_type": "stream",
     "text": [
      "Transform_functions:\n",
      "\n",
      "0:    geom_mean\n",
      "1:    L1\n",
      "2:    L1\n",
      "3:    L4\n",
      "4:    L2\n",
      "5:    arifm_mean\n",
      "6:    L4\n",
      "7:    geom_mean\n",
      "8:    L4\n",
      "\n",
      "\n",
      "Indices:\n",
      "\n",
      "0:      [0 2 6]\n",
      "1:      [1 4 5 7]\n",
      "2:      [1 2 3 6]\n",
      "3:      [1 6 7]\n",
      "4:      [1 2 3]\n",
      "5:      [2 3 5 6]\n",
      "6:      [0 1 6]\n",
      "7:      [0 5 6 7]\n",
      "8:      [1 2 3]\n",
      "\n",
      "\n"
     ]
    },
    {
     "name": "stderr",
     "output_type": "stream",
     "text": [
      "D:\\My Files\\HSE\\4 module, 2021\\Course project\\New\\utils.py:28: VisibleDeprecationWarning: Creating an ndarray from ragged nested sequences (which is a list-or-tuple of lists-or-tuples-or ndarrays with different lengths or shapes) is deprecated. If you meant to do this, you must specify 'dtype=object' when creating the ndarray\n",
      "  ind = list(choice(pws))\n"
     ]
    }
   ],
   "source": [
    "init_params = np.array([0.1, 0.5, 1, 2, 5, 10, 15, 20, 30])\n",
    "coeffs_factors = [0.1, 0.3, 0.5, 1.2, 1.5, 2, 5, 10]\n",
    "transform_functions = []\n",
    "n_params = len(init_params)\n",
    "\n",
    "for i in range(n_params):\n",
    "    transform_functions.append(choice(functions))\n",
    "\n",
    "expon_indices = 0\n",
    "expon2_indices = 0\n",
    "n_queries_indices = 0\n",
    "n_sessions_indices = 0\n",
    "n_sessions_with_ads_clicks_indices = 0\n",
    "page_load_time_indices = 0\n",
    "log_record_size_indices = 0\n",
    "time_to_click_indices = 0\n",
    "time_spent_indices = 0\n",
    "\n",
    "indices = [expon_indices, expon2_indices, n_queries_indices, n_sessions_indices,\n",
    "           n_sessions_with_ads_clicks_indices, page_load_time_indices,\n",
    "           log_record_size_indices, time_to_click_indices, time_spent_indices]\n",
    "\n",
    "for i in range(len(indices)):\n",
    "    indices[i] = np.array(choose_indices_bounded(np.arange(n_params), 5))\n",
    "\n",
    "print(\"Transform_functions:\\n\")\n",
    "print_func_names(transform_functions)\n",
    "\n",
    "print(\"Indices:\\n\")\n",
    "print_indices(indices)"
   ]
  },
  {
   "cell_type": "code",
   "execution_count": 72,
   "metadata": {},
   "outputs": [],
   "source": [
    "#init_sim_draw_deltas()"
   ]
  },
  {
   "cell_type": "code",
   "execution_count": null,
   "metadata": {},
   "outputs": [],
   "source": []
  },
  {
   "cell_type": "markdown",
   "metadata": {},
   "source": [
    "## Обучение нейронных метрик"
   ]
  },
  {
   "cell_type": "code",
   "execution_count": 11,
   "metadata": {},
   "outputs": [],
   "source": [
    "def gen_train_test(init_params, transform_functions, indices, coeff_ind, coeff_factor,\n",
    "                   signals, metrics, n_train, n_test):\n",
    "    params = modify_params(init_params, transform_functions, indices)\n",
    "\n",
    "    sim = Simulation()\n",
    "\n",
    "    sim.add_signals(signals)\n",
    "    sim.set_params(params)\n",
    "\n",
    "    sim.add_metrics(metrics)\n",
    "\n",
    "    ms_old_train = []\n",
    "    ms_new_train = []\n",
    "    \n",
    "    ms_old_test = []\n",
    "    ms_new_test = []\n",
    "    \n",
    "    \n",
    "    for j in range(len(coeff_ind)):\n",
    "        coeffs = np.ones_like(init_params)\n",
    "        coeffs[coeff_ind[j]] *= coeff_factor[j]\n",
    "        \n",
    "        for k in range(n_train):\n",
    "            ms_old_k = []\n",
    "            ms_new_k = []\n",
    "            for u in range(10):\n",
    "                sim.set_params(params)\n",
    "                sim.generate_data()\n",
    "                metrics_res1 = sim.conduct_metrics()\n",
    "                ms_old_k.append(metrics_res1)\n",
    "\n",
    "                sim.set_params(params * coeffs)\n",
    "                sim.generate_data()\n",
    "                metrics_res2 = sim.conduct_metrics()\n",
    "                ms_new_k.append(metrics_res2)\n",
    "\n",
    "            ms_old_train.append(ms_old_k)\n",
    "            ms_new_train.append(ms_new_k)\n",
    "\n",
    "        for k in range(n_test):\n",
    "            ms_old_k = []\n",
    "            ms_new_k = []\n",
    "            for u in range(10):\n",
    "                sim.set_params(params)\n",
    "                sim.generate_data()\n",
    "                metrics_res1 = sim.conduct_metrics()\n",
    "                ms_old_k.append(metrics_res1)\n",
    "\n",
    "                sim.set_params(params * coeffs)\n",
    "                sim.generate_data()\n",
    "                metrics_res2 = sim.conduct_metrics()\n",
    "                ms_new_k.append(metrics_res2)\n",
    "\n",
    "            ms_old_test.append(ms_old_k)\n",
    "            ms_new_test.append(ms_new_k)\n",
    "    \n",
    "    ms_old_train = torch.FloatTensor(ms_old_train)\n",
    "    ms_old_test = torch.FloatTensor(ms_old_test)\n",
    "    \n",
    "    ms_new_train = torch.FloatTensor(ms_new_train)\n",
    "    ms_new_test = torch.FloatTensor(ms_new_test)\n",
    "    \n",
    "    return ms_old_train, ms_new_train, ms_old_test, ms_new_test\n",
    "\n",
    "\n",
    "def train(model, epochs, ms_old_train, ms_new_train, ms_old_test, ms_new_test,\n",
    "          answers_train, answers_test, weight_decay=1e-5):\n",
    "    \n",
    "    optimizer = torch.optim.Adam(model.parameters(), weight_decay=weight_decay)\n",
    "    global_train_losses = []\n",
    "    global_test_losses = []\n",
    "\n",
    "    for i in tqdm(range(epochs)):\n",
    "        train_losses = []\n",
    "        test_losses = []\n",
    "        \n",
    "        for k in range(len(ms_old_train)):\n",
    "            loss = 0\n",
    "            for j in range(len(ms_old_train[k])):\n",
    "                loss += (model(ms_new_train[k][j]) - model(ms_old_train[k][j]))\n",
    "            loss /= len(ms_old_train[k])\n",
    "            loss = (loss - answers_train[k]) ** 2\n",
    "            \n",
    "            train_losses.append(loss)\n",
    "        \n",
    "            optimizer.zero_grad()\n",
    "            loss.backward()\n",
    "            optimizer.step()\n",
    "            \n",
    "        for k in range(len(ms_old_test)):\n",
    "            loss = 0\n",
    "            for j in range(len(ms_old_test[k])):\n",
    "                loss += (model(ms_new_test[k][j]) - model(ms_old_test[k][j]))\n",
    "            loss /= len(ms_old_test[k])\n",
    "            loss = (loss - answers_test[k]) ** 2\n",
    "            \n",
    "            test_losses.append(loss)\n",
    "        \n",
    "            optimizer.zero_grad()\n",
    "            loss.backward()\n",
    "            optimizer.step()\n",
    "        \n",
    "        global_train_losses.append(torch.FloatTensor(train_losses).mean().item())\n",
    "        global_test_losses.append(torch.FloatTensor(test_losses).mean().item())\n",
    "    \n",
    "    fig = plt.figure()\n",
    "    ax = plt.axes()\n",
    "\n",
    "    x = list(range(epochs))\n",
    "    ax.plot(np.array(x), np.array(global_train_losses), '-b', label='train')\n",
    "    ax.plot(np.array(x), np.array(global_test_losses), '-g', label='test')\n",
    "\n",
    "    ax.set(xlabel='epoch', ylabel='loss')\n",
    "\n",
    "    ax.axis('tight')\n",
    "    ax.legend();\n"
   ]
  },
  {
   "cell_type": "code",
   "execution_count": null,
   "metadata": {},
   "outputs": [],
   "source": []
  },
  {
   "cell_type": "code",
   "execution_count": 44,
   "metadata": {},
   "outputs": [],
   "source": [
    "n_train = 20\n",
    "n_test = 20\n",
    "\n",
    "coeff_ind = list(range(len(init_params)))\n",
    "coeff_factor = [2, 0.1, 3, 5, 7, 0.5, 1, 10, 3]\n",
    "\n",
    "model1 = Metric(10, 1)\n",
    "model2 = Metric(10, 1)\n",
    "model3 = Metric(10, 1)\n",
    "model4 = Metric(10, 1)\n",
    "model5 = Metric(10, 1)\n",
    "\n",
    "delta_goals1 = [0, 0, 0, 10, 0, -5, 0, 5, 0]\n",
    "delta_goals2 = [0, -7, 0, 0, 3, 9, 0, 0, -13]\n",
    "delta_goals3 = [8, 0, -6, 0, 0, 0, 6, 0, 0]\n",
    "delta_goals4 = [4, 2, 0, 0, 12, 0, 0, -4, 0]\n",
    "delta_goals5 = [0, 0, 9, -3, 0, 0, 3, 0, 0]\n",
    "\n",
    "delta_goals = []\n",
    "delta_goals.append(delta_goals1)\n",
    "delta_goals.append(delta_goals2)\n",
    "delta_goals.append(delta_goals3)\n",
    "delta_goals.append(delta_goals4)\n",
    "delta_goals.append(delta_goals5)\n"
   ]
  },
  {
   "cell_type": "code",
   "execution_count": 19,
   "metadata": {},
   "outputs": [],
   "source": [
    "ms_old_train, ms_new_train, ms_old_test, ms_new_test = \\\n",
    "               gen_train_test(init_params, transform_functions, indices, coeff_ind, coeff_factor,\n",
    "               signals, metrics, n_train=n_train, n_test=n_test)"
   ]
  },
  {
   "cell_type": "code",
   "execution_count": 45,
   "metadata": {},
   "outputs": [],
   "source": [
    "N = n_train * len(coeff_factor)\n",
    "coeffs_len = len(coeff_factor)\n",
    "\n",
    "answers_train = []\n",
    "answers_test = []\n",
    "\n",
    "for k in range(5):\n",
    "\n",
    "    ans_train = np.zeros(N)\n",
    "    ans_test = np.zeros(N)\n",
    "\n",
    "    for i in range(len(delta_goals[k])):\n",
    "        ans_train[i*n_train: (i+1)*n_train].fill(delta_goals[k][i])\n",
    "        ans_test[i*n_test: (i+1)*n_test].fill(delta_goals[k][i])\n",
    "\n",
    "    answer_train = torch.FloatTensor(ans_train)\n",
    "    answer_test = torch.FloatTensor(ans_test)\n",
    "    \n",
    "    answers_train.append(answer_train)\n",
    "    answers_test.append(answer_test)"
   ]
  },
  {
   "cell_type": "code",
   "execution_count": null,
   "metadata": {},
   "outputs": [],
   "source": []
  },
  {
   "cell_type": "code",
   "execution_count": null,
   "metadata": {},
   "outputs": [],
   "source": []
  },
  {
   "cell_type": "code",
   "execution_count": 46,
   "metadata": {},
   "outputs": [],
   "source": [
    "n_epochs = 100"
   ]
  },
  {
   "cell_type": "code",
   "execution_count": 47,
   "metadata": {},
   "outputs": [
    {
     "data": {
      "application/vnd.jupyter.widget-view+json": {
       "model_id": "bbe02d29d1a44be293d2d802c8d87a97",
       "version_major": 2,
       "version_minor": 0
      },
      "text/plain": [
       "HBox(children=(HTML(value=''), FloatProgress(value=0.0), HTML(value='')))"
      ]
     },
     "metadata": {},
     "output_type": "display_data"
    },
    {
     "name": "stdout",
     "output_type": "stream",
     "text": [
      "\n"
     ]
    },
    {
     "data": {
      "image/png": "[encoded data removed]",
      "text/plain": [
       "<Figure size 432x288 with 1 Axes>"
      ]
     },
     "metadata": {
      "needs_background": "light"
     },
     "output_type": "display_data"
    }
   ],
   "source": [
    "train(model1, n_epochs, ms_old_train, ms_new_train, ms_old_test, ms_new_test,\n",
    "      answers_train[0], answers_test[0], weight_decay=1e-5)"
   ]
  },
  {
   "cell_type": "code",
   "execution_count": null,
   "metadata": {},
   "outputs": [],
   "source": []
  },
  {
   "cell_type": "code",
   "execution_count": null,
   "metadata": {},
   "outputs": [],
   "source": []
  },
  {
   "cell_type": "code",
   "execution_count": 48,
   "metadata": {},
   "outputs": [
    {
     "data": {
      "application/vnd.jupyter.widget-view+json": {
       "model_id": "c991a6ca2bdf48148c1d3f1651dad482",
       "version_major": 2,
       "version_minor": 0
      },
      "text/plain": [
       "HBox(children=(HTML(value=''), FloatProgress(value=0.0), HTML(value='')))"
      ]
     },
     "metadata": {},
     "output_type": "display_data"
    },
    {
     "name": "stdout",
     "output_type": "stream",
     "text": [
      "\n"
     ]
    },
    {
     "data": {
      "image/png": "[encoded data removed]",
      "text/plain": [
       "<Figure size 432x288 with 1 Axes>"
      ]
     },
     "metadata": {
      "needs_background": "light"
     },
     "output_type": "display_data"
    }
   ],
   "source": [
    "train(model2, n_epochs, ms_old_train, ms_new_train, ms_old_test, ms_new_test,\n",
    "      answers_train[1], answers_test[1], weight_decay=1e-5)"
   ]
  },
  {
   "cell_type": "code",
   "execution_count": null,
   "metadata": {},
   "outputs": [],
   "source": []
  },
  {
   "cell_type": "code",
   "execution_count": 49,
   "metadata": {},
   "outputs": [
    {
     "data": {
      "application/vnd.jupyter.widget-view+json": {
       "model_id": "02ba7578cd034d1fa34a67d439a59314",
       "version_major": 2,
       "version_minor": 0
      },
      "text/plain": [
       "HBox(children=(HTML(value=''), FloatProgress(value=0.0), HTML(value='')))"
      ]
     },
     "metadata": {},
     "output_type": "display_data"
    },
    {
     "name": "stdout",
     "output_type": "stream",
     "text": [
      "\n"
     ]
    },
    {
     "data": {
      "image/png": "[encoded data removed]",
      "text/plain": [
       "<Figure size 432x288 with 1 Axes>"
      ]
     },
     "metadata": {
      "needs_background": "light"
     },
     "output_type": "display_data"
    }
   ],
   "source": [
    "train(model3, n_epochs, ms_old_train, ms_new_train, ms_old_test, ms_new_test,\n",
    "      answers_train[2], answers_test[2], weight_decay=1e-5)"
   ]
  },
  {
   "cell_type": "code",
   "execution_count": null,
   "metadata": {},
   "outputs": [],
   "source": []
  },
  {
   "cell_type": "code",
   "execution_count": null,
   "metadata": {},
   "outputs": [],
   "source": []
  },
  {
   "cell_type": "code",
   "execution_count": 50,
   "metadata": {},
   "outputs": [
    {
     "data": {
      "application/vnd.jupyter.widget-view+json": {
       "model_id": "92325531e92d49fd9375ea9be166eded",
       "version_major": 2,
       "version_minor": 0
      },
      "text/plain": [
       "HBox(children=(HTML(value=''), FloatProgress(value=0.0), HTML(value='')))"
      ]
     },
     "metadata": {},
     "output_type": "display_data"
    },
    {
     "name": "stdout",
     "output_type": "stream",
     "text": [
      "\n"
     ]
    },
    {
     "data": {
      "image/png": "[encoded data removed]",
      "text/plain": [
       "<Figure size 432x288 with 1 Axes>"
      ]
     },
     "metadata": {
      "needs_background": "light"
     },
     "output_type": "display_data"
    }
   ],
   "source": [
    "train(model4, n_epochs, ms_old_train, ms_new_train, ms_old_test, ms_new_test,\n",
    "      answers_train[3], answers_test[3], weight_decay=1e-5)"
   ]
  },
  {
   "cell_type": "code",
   "execution_count": null,
   "metadata": {},
   "outputs": [],
   "source": []
  },
  {
   "cell_type": "code",
   "execution_count": null,
   "metadata": {},
   "outputs": [],
   "source": []
  },
  {
   "cell_type": "code",
   "execution_count": 51,
   "metadata": {},
   "outputs": [
    {
     "data": {
      "application/vnd.jupyter.widget-view+json": {
       "model_id": "960d904441dc4bd5872c1eb7725cff40",
       "version_major": 2,
       "version_minor": 0
      },
      "text/plain": [
       "HBox(children=(HTML(value=''), FloatProgress(value=0.0), HTML(value='')))"
      ]
     },
     "metadata": {},
     "output_type": "display_data"
    },
    {
     "name": "stdout",
     "output_type": "stream",
     "text": [
      "\n"
     ]
    },
    {
     "data": {
      "image/png": "[encoded data removed]",
      "text/plain": [
       "<Figure size 432x288 with 1 Axes>"
      ]
     },
     "metadata": {
      "needs_background": "light"
     },
     "output_type": "display_data"
    }
   ],
   "source": [
    "train(model5, n_epochs, ms_old_train, ms_new_train, ms_old_test, ms_new_test,\n",
    "      answers_train[4], answers_test[4], weight_decay=1e-5)"
   ]
  },
  {
   "cell_type": "code",
   "execution_count": null,
   "metadata": {},
   "outputs": [],
   "source": []
  },
  {
   "cell_type": "markdown",
   "metadata": {},
   "source": [
    "## Проверка, что модель обучилась как нужно"
   ]
  },
  {
   "cell_type": "code",
   "execution_count": 71,
   "metadata": {},
   "outputs": [
    {
     "data": {
      "image/png": "[encoded data removed]",
      "text/plain": [
       "<Figure size 432x288 with 1 Axes>"
      ]
     },
     "metadata": {},
     "output_type": "display_data"
    },
    {
     "data": {
      "image/png": "[encoded data removed]",
      "text/plain": [
       "<Figure size 432x288 with 1 Axes>"
      ]
     },
     "metadata": {},
     "output_type": "display_data"
    },
    {
     "data": {
      "image/png": "[encoded data removed]",
      "text/plain": [
       "<Figure size 432x288 with 1 Axes>"
      ]
     },
     "metadata": {},
     "output_type": "display_data"
    },
    {
     "data": {
      "image/png": "[encoded data removed]",
      "text/plain": [
       "<Figure size 432x288 with 1 Axes>"
      ]
     },
     "metadata": {},
     "output_type": "display_data"
    },
    {
     "data": {
      "image/png": "[encoded data removed]",
      "text/plain": [
       "<Figure size 432x288 with 1 Axes>"
      ]
     },
     "metadata": {},
     "output_type": "display_data"
    },
    {
     "data": {
      "image/png": "[encoded data removed]",
      "text/plain": [
       "<Figure size 432x288 with 1 Axes>"
      ]
     },
     "metadata": {},
     "output_type": "display_data"
    },
    {
     "data": {
      "image/png": "[encoded data removed]",
      "text/plain": [
       "<Figure size 432x288 with 1 Axes>"
      ]
     },
     "metadata": {},
     "output_type": "display_data"
    },
    {
     "data": {
      "image/png": "[encoded data removed]",
      "text/plain": [
       "<Figure size 432x288 with 1 Axes>"
      ]
     },
     "metadata": {},
     "output_type": "display_data"
    },
    {
     "data": {
      "image/png": "[encoded data removed]",
      "text/plain": [
       "<Figure size 432x288 with 1 Axes>"
      ]
     },
     "metadata": {},
     "output_type": "display_data"
    },
    {
     "data": {
      "image/png": "[encoded data removed]",
      "text/plain": [
       "<Figure size 432x288 with 1 Axes>"
      ]
     },
     "metadata": {
      "needs_background": "light"
     },
     "output_type": "display_data"
    },
    {
     "data": {
      "image/png": "[encoded data removed]",
      "text/plain": [
       "<Figure size 432x288 with 1 Axes>"
      ]
     },
     "metadata": {
      "needs_background": "light"
     },
     "output_type": "display_data"
    },
    {
     "data": {
      "image/png": "[encoded data removed]",
      "text/plain": [
       "<Figure size 432x288 with 1 Axes>"
      ]
     },
     "metadata": {
      "needs_background": "light"
     },
     "output_type": "display_data"
    },
    {
     "data": {
      "image/png": "[encoded data removed]",
      "text/plain": [
       "<Figure size 432x288 with 1 Axes>"
      ]
     },
     "metadata": {
      "needs_background": "light"
     },
     "output_type": "display_data"
    },
    {
     "data": {
      "image/png": "[encoded data removed]",
      "text/plain": [
       "<Figure size 432x288 with 1 Axes>"
      ]
     },
     "metadata": {
      "needs_background": "light"
     },
     "output_type": "display_data"
    },
    {
     "data": {
      "image/png": "[encoded data removed]",
      "text/plain": [
       "<Figure size 432x288 with 1 Axes>"
      ]
     },
     "metadata": {
      "needs_background": "light"
     },
     "output_type": "display_data"
    },
    {
     "data": {
      "image/png": "[encoded data removed]",
      "text/plain": [
       "<Figure size 432x288 with 1 Axes>"
      ]
     },
     "metadata": {
      "needs_background": "light"
     },
     "output_type": "display_data"
    },
    {
     "data": {
      "image/png": "[encoded data removed]",
      "text/plain": [
       "<Figure size 432x288 with 1 Axes>"
      ]
     },
     "metadata": {
      "needs_background": "light"
     },
     "output_type": "display_data"
    },
    {
     "data": {
      "image/png": "[encoded data removed]",
      "text/plain": [
       "<Figure size 432x288 with 1 Axes>"
      ]
     },
     "metadata": {
      "needs_background": "light"
     },
     "output_type": "display_data"
    }
   ],
   "source": [
    "for i in range(len(coeff_ind)):\n",
    "    coeffs = np.ones_like(init_params)\n",
    "    coeffs[i] *= coeff_factor[i]\n",
    "    \n",
    "    metrics_diff = []\n",
    "\n",
    "    sim = Simulation()\n",
    "    sim.add_signals(signals)\n",
    "    sim.set_params(params)\n",
    "\n",
    "    sim.add_metrics(metrics)\n",
    "\n",
    "    for _ in range(N_ITERATIONS):\n",
    "        sim.set_params(params)\n",
    "        sim.generate_data()\n",
    "        metrics_res1 = model1(torch.FloatTensor(sim.conduct_metrics()))\n",
    "\n",
    "        sim.set_params(params * coeffs)\n",
    "        sim.generate_data()\n",
    "        metrics_res2 = model1(torch.FloatTensor(sim.conduct_metrics()))\n",
    "\n",
    "        metrics_diff.append((metrics_res2 - metrics_res1).item())\n",
    "\n",
    "    metrics_diff = np.array(metrics_diff)\n",
    "\n",
    "    fig = plt.figure()\n",
    "    ax = plt.axes()\n",
    "    ax.set(title=f'Modified param: {i}, factor: {coeff_factor[i]}')\n",
    "\n",
    "    ax.hist(metrics_diff, bins='rice', alpha=0.5,\n",
    "                           histtype='stepfilled', density=True);\n",
    "    display(fig)\n",
    "    "
   ]
  },
  {
   "cell_type": "code",
   "execution_count": null,
   "metadata": {},
   "outputs": [],
   "source": []
  },
  {
   "cell_type": "code",
   "execution_count": null,
   "metadata": {},
   "outputs": [],
   "source": []
  },
  {
   "cell_type": "code",
   "execution_count": null,
   "metadata": {},
   "outputs": [],
   "source": []
  },
  {
   "cell_type": "code",
   "execution_count": null,
   "metadata": {},
   "outputs": [],
   "source": []
  },
  {
   "cell_type": "code",
   "execution_count": null,
   "metadata": {},
   "outputs": [],
   "source": []
  },
  {
   "cell_type": "code",
   "execution_count": null,
   "metadata": {},
   "outputs": [],
   "source": []
  },
  {
   "cell_type": "code",
   "execution_count": null,
   "metadata": {},
   "outputs": [],
   "source": []
  },
  {
   "cell_type": "code",
   "execution_count": null,
   "metadata": {},
   "outputs": [],
   "source": []
  }
 ],
 "metadata": {
  "kernelspec": {
   "display_name": "Python 3",
   "language": "python",
   "name": "python3"
  },
  "language_info": {
   "codemirror_mode": {
    "name": "ipython",
    "version": 3
   },
   "file_extension": ".py",
   "mimetype": "text/x-python",
   "name": "python",
   "nbconvert_exporter": "python",
   "pygments_lexer": "ipython3",
   "version": "3.8.5"
  }
 },
 "nbformat": 4,
 "nbformat_minor": 4
}
